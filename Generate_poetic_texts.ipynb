{
  "cells": [
    {
      "cell_type": "markdown",
      "metadata": {
        "id": "view-in-github",
        "colab_type": "text"
      },
      "source": [
        "<a href=\"https://colab.research.google.com/github/Nandiniiy/Poetic-Texts-Project/blob/main/Generate_poetic_texts.ipynb\" target=\"_parent\"><img src=\"https://colab.research.google.com/assets/colab-badge.svg\" alt=\"Open In Colab\"/></a>"
      ]
    },
    {
      "cell_type": "code",
      "execution_count": null,
      "metadata": {
        "id": "ai_MBHjMEhHJ"
      },
      "outputs": [],
      "source": [
        "import random"
      ]
    },
    {
      "cell_type": "code",
      "execution_count": null,
      "metadata": {
        "id": "DbWwlsmjExYI"
      },
      "outputs": [],
      "source": [
        "import numpy as np\n",
        "import tensorflow as tf\n",
        "from tensorflow.keras.models import Sequential\n",
        "from tensorflow.keras.layers import LSTM,Dense, Activation\n",
        "from tensorflow.keras.optimizers import RMSprop"
      ]
    },
    {
      "cell_type": "code",
      "execution_count": null,
      "metadata": {
        "colab": {
          "base_uri": "https://localhost:8080/"
        },
        "id": "Cy3L2SlgExbt",
        "outputId": "7663f460-06c9-48c1-ef4c-7169f5330c35"
      },
      "outputs": [
        {
          "name": "stdout",
          "output_type": "stream",
          "text": [
            "Downloading data from https://storage.googleapis.com/download.tensorflow.org/data/shakespeare.txt\n",
            "\u001b[1m1115394/1115394\u001b[0m \u001b[32m━━━━━━━━━━━━━━━━━━━━\u001b[0m\u001b[37m\u001b[0m \u001b[1m0s\u001b[0m 0us/step\n"
          ]
        }
      ],
      "source": [
        "filepath = tf.keras.utils.get_file('shakespeare.txt', 'https://storage.googleapis.com/download.tensorflow.org/data/shakespeare.txt')"
      ]
    },
    {
      "cell_type": "code",
      "execution_count": null,
      "metadata": {
        "id": "2t_PQwY1ExfV"
      },
      "outputs": [],
      "source": [
        "text = open(filepath, 'rb').read().decode(encoding = 'utf-8').lower()"
      ]
    },
    {
      "cell_type": "code",
      "execution_count": null,
      "metadata": {
        "id": "dD_r4MRGExiv"
      },
      "outputs": [],
      "source": [
        "text = text[300000:800000]"
      ]
    },
    {
      "cell_type": "code",
      "execution_count": null,
      "metadata": {
        "id": "GXhryzQ5GPzy"
      },
      "outputs": [],
      "source": [
        "characters = sorted(set(text))"
      ]
    },
    {
      "cell_type": "code",
      "execution_count": null,
      "metadata": {
        "id": "OEX9DMDlGP3N"
      },
      "outputs": [],
      "source": [
        "char_to_index = dict((c, i) for i, c in enumerate(characters))"
      ]
    },
    {
      "cell_type": "code",
      "execution_count": null,
      "metadata": {
        "id": "UBQDSz5iGP7G"
      },
      "outputs": [],
      "source": [
        "index_to_char = dict((i, c) for i, c in enumerate(characters))"
      ]
    },
    {
      "cell_type": "code",
      "execution_count": null,
      "metadata": {
        "id": "vrPzx0GiGQEy"
      },
      "outputs": [],
      "source": [
        "SEQ_LENGTH = 40\n",
        "STEP_SIZE = 3"
      ]
    },
    {
      "cell_type": "code",
      "execution_count": null,
      "metadata": {
        "id": "GXe0rzqPGP-e"
      },
      "outputs": [],
      "source": [
        "sentences= []\n",
        "next_characters = []"
      ]
    },
    {
      "cell_type": "code",
      "execution_count": null,
      "metadata": {
        "id": "G_Bp1cyWGQJZ"
      },
      "outputs": [],
      "source": [
        "for i in range(0, len(text) - SEQ_LENGTH , STEP_SIZE):\n",
        "  sentences.append(text [i: i+SEQ_LENGTH])\n",
        "  next_characters.append(text[i+SEQ_LENGTH])"
      ]
    },
    {
      "cell_type": "code",
      "execution_count": null,
      "metadata": {
        "id": "artQyUWZOhhf"
      },
      "outputs": [],
      "source": [
        "x = np.zeros((len(sentences), SEQ_LENGTH, len(characters)), dtype=np.bool_)"
      ]
    },
    {
      "cell_type": "code",
      "execution_count": null,
      "metadata": {
        "id": "BabT7uVSPfyd"
      },
      "outputs": [],
      "source": [
        "y = np.zeros((len(sentences), len(characters)), dtype=bool)"
      ]
    },
    {
      "cell_type": "code",
      "execution_count": null,
      "metadata": {
        "id": "mlXCVyn9NaOx"
      },
      "outputs": [],
      "source": [
        "for i, sentence in enumerate(sentences):\n",
        "  for t, character in enumerate(sentence):\n",
        "    x[i, t, char_to_index[character]] = 1\n",
        "  y[i, char_to_index[next_characters[i]]] = 1"
      ]
    },
    {
      "cell_type": "code",
      "execution_count": null,
      "metadata": {
        "id": "0MUa4C2oNaR3"
      },
      "outputs": [],
      "source": [
        "model = Sequential()"
      ]
    },
    {
      "cell_type": "code",
      "execution_count": null,
      "metadata": {
        "colab": {
          "base_uri": "https://localhost:8080/"
        },
        "id": "tlh_KphcYfIE",
        "outputId": "7f301d73-4742-4584-fe4f-397f2324f7c4"
      },
      "outputs": [
        {
          "name": "stderr",
          "output_type": "stream",
          "text": [
            "/usr/local/lib/python3.10/dist-packages/keras/src/layers/rnn/rnn.py:204: UserWarning: Do not pass an `input_shape`/`input_dim` argument to a layer. When using Sequential models, prefer using an `Input(shape)` object as the first layer in the model instead.\n",
            "  super().__init__(**kwargs)\n"
          ]
        }
      ],
      "source": [
        "model.add(LSTM(128, input_shape=(SEQ_LENGTH, len(characters))))"
      ]
    },
    {
      "cell_type": "code",
      "execution_count": null,
      "metadata": {
        "id": "V5GjN67MY33Y"
      },
      "outputs": [],
      "source": [
        "model.add(Dense(len(characters)))"
      ]
    },
    {
      "cell_type": "code",
      "execution_count": null,
      "metadata": {
        "id": "nfOjphu4ZAd4"
      },
      "outputs": [],
      "source": [
        "model.add(Activation('softmax'))"
      ]
    },
    {
      "cell_type": "code",
      "execution_count": null,
      "metadata": {
        "id": "72G2xiKaNaVQ"
      },
      "outputs": [],
      "source": [
        "model.compile(loss = 'categorical_crossentropy', optimizer=RMSprop(learning_rate=0.01))"
      ]
    },
    {
      "cell_type": "code",
      "execution_count": null,
      "metadata": {
        "colab": {
          "base_uri": "https://localhost:8080/"
        },
        "id": "LQ9zkv_eNaYp",
        "outputId": "b479c795-d44a-4054-c821-338bb25c5088"
      },
      "outputs": [
        {
          "name": "stdout",
          "output_type": "stream",
          "text": [
            "Epoch 1/4\n",
            "\u001b[1m651/651\u001b[0m \u001b[32m━━━━━━━━━━━━━━━━━━━━\u001b[0m\u001b[37m\u001b[0m \u001b[1m117s\u001b[0m 177ms/step - loss: 1.1589e-05\n",
            "Epoch 2/4\n",
            "\u001b[1m651/651\u001b[0m \u001b[32m━━━━━━━━━━━━━━━━━━━━\u001b[0m\u001b[37m\u001b[0m \u001b[1m141s\u001b[0m 176ms/step - loss: 8.8714e-06\n",
            "Epoch 3/4\n",
            "\u001b[1m651/651\u001b[0m \u001b[32m━━━━━━━━━━━━━━━━━━━━\u001b[0m\u001b[37m\u001b[0m \u001b[1m145s\u001b[0m 180ms/step - loss: 1.3602e-04\n",
            "Epoch 4/4\n",
            "\u001b[1m651/651\u001b[0m \u001b[32m━━━━━━━━━━━━━━━━━━━━\u001b[0m\u001b[37m\u001b[0m \u001b[1m137s\u001b[0m 173ms/step - loss: 4.9862e-05\n"
          ]
        },
        {
          "data": {
            "text/plain": [
              "<keras.src.callbacks.history.History at 0x7dbd5f339f60>"
            ]
          },
          "execution_count": 41,
          "metadata": {},
          "output_type": "execute_result"
        }
      ],
      "source": [
        "model.fit(x,y, batch_size=256, epochs=4)"
      ]
    },
    {
      "cell_type": "code",
      "execution_count": null,
      "metadata": {
        "id": "qkt5pSbyeuBl"
      },
      "outputs": [],
      "source": [
        "model.save('textgenerator.keras')"
      ]
    },
    {
      "cell_type": "code",
      "execution_count": null,
      "metadata": {
        "id": "V_ABUV93e4fH"
      },
      "outputs": [],
      "source": [
        "model = tf.keras.models.load_model('textgenerator.keras')"
      ]
    },
    {
      "cell_type": "code",
      "execution_count": null,
      "metadata": {
        "id": "4cQp98-5n_pl"
      },
      "outputs": [],
      "source": [
        "def sample(preds, temperature=1.0):\n",
        "  preds = np.asarray(preds).astype('float64')\n",
        "  preds = np.log(preds) / temperature\n",
        "  exp_preds = np.exp(preds)\n",
        "  preds = exp_preds / np.sum(exp_preds)\n",
        "  probas = np.random.multinomial(1, preds, 1)\n",
        "  return np.argmax(probas)"
      ]
    },
    {
      "cell_type": "code",
      "execution_count": 66,
      "metadata": {
        "id": "mpZBemL8ntw5"
      },
      "outputs": [],
      "source": [
        "def generate_text(length, temperature):\n",
        "  start_index = random.randint(0, len(text) - SEQ_LENGTH - 1)\n",
        "  generated = ''\n",
        "  sentence = text[start_index: start_index + SEQ_LENGTH]\n",
        "  generated += sentence\n",
        "  for i in range(length):\n",
        "    x = np.zeros((1, SEQ_LENGTH, len(characters)))\n",
        "    for t, character in enumerate(sentence):\n",
        "      x[0, t, char_to_index[character]] = 1\n",
        "      predictions = model.predict(x, verbose=0)[0]\n",
        "      next_index = sample(predictions, temperature) # Pass predictions to sample function\n",
        "      next_character = index_to_char[next_index]\n",
        "      generated += next_character\n",
        "      sentence = sentence[1:] + next_character\n",
        "  return generated # Return outside of for loop"
      ]
    },
    {
      "cell_type": "code",
      "execution_count": null,
      "metadata": {
        "colab": {
          "base_uri": "https://localhost:8080/"
        },
        "id": "phL1N5-ag7DF",
        "outputId": "c806c98c-3676-468d-e161-56640e4d35e7"
      },
      "outputs": [
        {
          "metadata": {
            "tags": null
          },
          "name": "stdout",
          "output_type": "stream",
          "text": [
            "-------0.2------\n",
            "as the author, thou the instrument.\n",
            "therjjjjjjjjjjjjjjjjjjjjjjjjjjjjjjjjjjjjjjjjjjjjjjjjjjjjjjjjjjjjjjjjjjjjjjjjjjjjjjjjjjjjjjjjjjjjjvjjjjjjjjjjjjjjjjjjjjjjjjjjjjjjjjjjjjjjjjjjjjjjjjjjjjjjjjjjjjjjjjjjjjjjjjjjjjjjjjjjjjjjjjjjjjjjjjjjjjjjjjjjjjjjjjjjjjjjjjjjjjjjjjjjjjjjjjjjjjjjjjjjjjjjjjjjjjjjjjjjjjjjjjjjjjjjjjjjjjjjjjjjjjjjjjjjjjjjjjjjjjjjjjjjjjjjjjjjjjjjjjjjjjjjjjjjjjjjjjjjjjjjjjjjjjjjjjjjjjjjjjjjjjjjjjjjjjjjjjjjjjjjjjjjjjjjjjjjjjjjjjjjjjjjjjjjjjjjjjjjjjjjjjjjjjjjjjjjjjjjjjjjjjjjjjjjjjjjjjjjjjjjjjjjjjjjjjjjjjjjjjjjjjjjjjjjjjjjjjjjjjjjjjjjjjjjjjjjjjjjjjjjjjjjjjjjjjjjjjjjjjjjjjjjjjjjjjjjjjjjjjjjjjjjjjjjjjjjjjjjjjjjjjjjjjjjjjjjjjjjjjjjjjjjjjjjjjjjjjjjjjjjjjjjjjjjjjjjjjjjjjjjjjjjjjjjjjjjjjjjjjjjjjjjjjjjjjjjjjjjjjjjjjjjjjjjjjjjjjjjjjjjjjjjjjjjjjjjjjjjjjjjjjjjjjjjjjjjjjjjjjjjjjjjjjjjjjjjjjjjjjjjjjjjjjjjjjjjjjjjjj jjjjjjjjjjjjjjjjjjjjjjjjjjjjjjjjjjjjjjjjjjjjjjjjjjjjjjjjjjjjjjjjjjjjjjjjjjjjjjjjjjjjjjjjjjjjjjjjjjjjjjjjjjjjjjjjjjjjjjjjjjjjjjjjjjjjjjjjjjjjjjjjjjjjjjjjjjjjjjjjjjjjjjjjjjjjjjjjjjjjjjjjjjjjjjjjjjjjjjjjjjjjjjjjjjjjjjjjjjjjjjjjjjjjjjjjjjjjjjjjjjjjjjjjjjjjjjjjjjjjjjjjjjjjjjjjjjjjjjjjjjjjjjjjjjjjjjjjjjjjjjjjjjjjjjjjjjjjjjjjjjjjjjjjjjjjjjjjjjjjjjjjjjjjjjjjjjjjjjjjjjjjjjjjjjjjjjjjjjjjjjjjjjjjjjjjjjjjjjjjjjjjjjjjjjjhjjjjjjjjjjjjjjjjjjjjjjjjjjjjjjjjjjjjjjjjjjjjjjjjjjjjjjjjjjjjjjjjjjjjjjjjjjjjjjjjjjjjjjjjjjjjjjjjjjjjjjjjjjjjjjjjjjjjjjjjjjjjjjjjjjjjjjjjjjjjjjjjjjjjjjjjjjjjjjjjjjjjjjjjjjjjjjjjjjjjjjjjjjjjjjjjjjjjjjjjjjjjjjjjjjjjjjjjjjjjjjjjjjjjjjjjjjjjjjjjjjjjjjjjjjjjjjjjjjjjjjjjjjjjjjjjjjjjjjjjjjjjjjjjjjjjjjjjjjjjjjjjjjjjjjjjjjjjjjjjjjjjjjjjjjjjjjjjjjjjjjjjjjjjjjjjjjjjjjjjjjjjjjjjjjjjjjjjjjjjjjjjjjjjjjjjjjjjjjjjjjjjjjjjjjjjjjjjjjjjjjjjjjjjjjjjjjjjjjjjjjjjjjjjjjjjjjjjjjjjjjjjjjjjjjjjjjjjjjjjjjjjjjjjjjjjjjjjjjjjjjjjjjjjjjjjjjjjjjjjjjjjjjjjjjjjjjjjjjjjjjjjjjjjjjjjjjjjjjjjjjjjjjjjjjjjjjjjjjjjjjjjjjjjjjjjjjjjjjjjjjjjjjjjjjjjjjjjjjjjjjjjjjjjjjjjjjjjjjjjjjjjjjjjjjjjjjjjjjjjjjjjjjjjjjjjjjjjjjjjjjjjjjjjjjjjjjjjjjjjjjjjjjjjjjjjjjjjjjjjjjjjjjjjjjjjjjjjjjjjjjjjjjjjjjjjjjjjjjjjjjjjjjjjjjjjjjjjjjjjjjjjjjjjjjjjjjjjjjjjjjjjjjjjjjjjjjjjjjjjjjjjjjjjjjjjjjjjjjjjjjjjjjjjjjjjjjjjjjjjjjjjjjjjjjjjjjjjjjjjjjjjjjjjjjjjjjjjjjjjjjjjjjjjjjjjjjjjjjjjjjjjjjjjjjjjjjjjjjjjjjjjjjjjjjjjjjjjjjjjjjjjjjjjjjjjjjjjjjjjjjjjjjjjjjjjjjjjjjjjjjjjjjjjjjjjjjjjjjjjjjjjjjjjjjjjjjjjjjjjjjjjjjjjjjjjjjjjjjjjjjjjjjjjjjjjjjjjjjjjjjjjjjjjjjjjjjjjjjjjjjjjjjjjjjjjjjjjjjjjjjjjjjjjjjjjjjjjjjjjjjjjjjjjjjjjjjjjjjjjjjjjjjjjjjjjjjjjjjjjjjjjjjjjjjjjjjjjjjjjjjjjjjjjjjjjjjjjjjjjjjjjjjjjjjjjjjjjjjjjjjjjjjjjjjjjjjjjjjjjjjjjjjjjjjjjjjjjjjjjjjjjjjjjjjjjjjjjjjjjjjjjjjjjjjjjjjjjjjjjjjjjjjjjjjjjjjjjjjjjjjjjjjjjjjjjjjjjjjjjjjjjjjjjjjjjjjjjjjjjjjjjjjjjjjjjjjjjjjjjjjjjjjjjjjjjjjjjjjjjjjjjjjjjjjjjjjjjjjjjjjjjjjjjjjjjjjjjjj jjjjjjjjjjjjjjjjjjjjjjjjjjjjjjjjjjjjjjjjjjjjjjjjjjjjjjjjjjjjjjjjjjjjjjjjjjjjjjjjjjjjjjjjjjjjjjjjjjjjjjjjjjjjjjjjjjjjjjjjjjjjjjjjjjjjjjjjjjjjjjjjjjjjjjjjjjjjjjjjjjjjjjjjjjjjjjjjjjjjjjjjjjjjjjjjjjjjjjjjjjjjjjjjjjjjjjjjjjjjjjjjjjjjjjjjjjjjjjjjjjjjjjjjjjjjjjjjjjjjjjjjjjjjjjjjjjjjjjjjjjjjjjjjjjjjjjjjjjjjjjjjjjjjjjjjjjjjjjjjjjjjjjjjjjjjjjjjjjjjjjjjjjjjjjjjjjjjjjjjjjjjjjjjjjjjjjjjjjjjjjjjjjjjjjjjjjjjjjjjjjjjjjjjjjjjjjjjjjjjjjjjjjjjjjjjjjjjjjjjjjjjjjjjjjjjjjjjjjjjjjjjjjjjjjjjjjjjjjjjjjjjjjjjjjjjjjjjjjjjjjjjjjjjjjjjjjjjjjjjjjjjjjjjjjjjjjjjjjjjjjjjjjjjjjjjjjjjjjjjjjjjjjjjjjjjjjjjjjjjjjjjjjjjjjjjjjjjjjjjjjjjjjjjjjjjjjjjjjjjjjjjjjjjjjjjjjjjjjjjjjjjjjjjjjjjjjjjjjjjjjjjjjjjjjjjjjjjjjjjjjjjjjjjjjjjjjjjjjjjjjjjjjjjjjjjjjjjjjjjjjjjjjjjjjjjjjjjjjjjjjjjjjjjjjjjjjjjjjjjjjjjjjjjjjjjjjjjjjjjjjjjjjjjjjjjjjjjjjjjjjjjjjjjjjjjjjjjjjjjjjjjjjjjjjjjjjjjjjjjjjjjjjjjjjjjjjjjjjjjjjjjjjjjjjjjjjjjjj jjjjjjjjjjjjjjjjjjjjjjjjjjjjjjjjjjjjjjjjjjjjjjjjjjjjjjjjjjjjjjjjjjjjjjjjjjjjjjjjjjjjjjjjjjjjjjjjjjjjjjjjjjjjjjjjjjjjjjjjjjjjjjjjjjjjjjjjjjjjjjjjjjjjjjjjjjjjjjjjjjjjjjjjj jjjjjjjjjjjjjjjjjjjjjjjjjjjjjjj jjjjjjjjjjjjjjjjjjjjjjjjjjjjjjjjjjjjjjjjjjjjjjjjjjjjjjjjjjjjjjjjjjjjjjjjjjjjjjjjjjjjjjjjjjjjjjjjjjjjjjjjjjjjjjjjjjjjjjjjjjjjjjjjjjjjjjjjjjjjjjjjjjjjjjjjjjjjjjjjjjjjjjjjjjjjjjjjjjjjjjjjjjjjjjjjjjjjjjjjjjjjjjjjjjjjjjjjjjjjjjjjjjjjjjjjjjjjjjjjjjjjjjjjjjjjjjjjjjjjjjjjjjjjjjjjjjjjjjjjjjjjjjjjjjjjjjjjjjjjjjjjjjjjjjjjjjjjjjjjjjjjjjjjjjjjjjjjjjjjjjjjjjjjjjjjjjjjjjjjjjjjjjjjjjjjjjjjjjjjjjjjjjjjjjjjjjjjjjjjjjjjjjjjjjjjjjjjjjjjjjjjjjjjjjjjjjjjjjjjjjjjjjjjjjjjjjjjjjjjjjjjjjjjjjjjjjjjjjjjjjjjjjjjjjjjjjjjjjjjjjjjjjjjjjjjjjjjjjjjjjjjjjjjjjjjjjjjjjjjjjjjjjjjjjjjjjjjjjjjjjjjjjjjjjjjjjjjjjjjjjjjjjjjjjjjjjjjjjjjjjjjjjjjjjjjjjjjjjjjjjjjjjjjjjjjjjjjjjjjjjjjjjjjjjjjjjjjjjjjjjjjjjjjjjjjjjjjjjjjjjjjjjjjjjjjjjjjjjjjjjjjjjjjjjjjjjjjjjjjjjjjjjjjjjjjjjjjjjjjjjjjjjjjjjjjjjjjjjjjjjjjjjjjjjjjjjjjjjjjjjjjjjjjjjjjjjjjjjjjjjjjjjjjjjjjjjjjjjjjjjjjjjjjjjjjjjjjjjjjjjjjjjjjjjjjjjjjjjjjjjjjjjjjjjjjjjjjjjjjjjjjjjjjjjjjjjjjjjjjjjjjjjjjjjjjjjjjjjjjjjjjjjjjjjjjjjjjjjjjjjjjjjjjjjjjjjjjjjjjjjjjjjjjjjjjjjjjjjjjjjjjjjjjjjjjjjjjjjjjjjjjjjjjjjjjjjjjjjjjjjjjjjjjjjjjjjjjjjjjjjjjjjjjjjjjjjjjjjjjjjjjjjjjjjjjjjjjjjjjjjjjjjjjjjjjjjjjjjjjjjjjjjjjjjjjjjjjjjjjjjjjjjjjjjjjjjjjjjjjjjjjjjjjjjjjjjjjjjjjjjjjjjjjjjjjjjjjjjjjjjjjjjjjjjjjjjjjjjjjjjjjjjjjjjjjjjjjjjjjjjjjjjjjjjjjjjjjjjjjjjjjjjjjjjjjjjjjjjjjjjjjjjjjjjjjjjjjjjjjjjjjjjjjjjjjjjjjjjjjjjjjjjjjjjjjjjjjjjjjjjjjjjjjjjjjjjjjjjjjjjjjjjjjjjjjjjjjjjjjjjjjjjjjjjjjjjjjjjjjjjjjjjjjjjjjjjjjjjjjjjjjjjjjjjjjjjjjjjjjjjjjjjjjjjjjjjjjjjjjjjjjjjjjjjjjjjjjjjjjjjjjjjjjjjjjjjjjjjjjjjjjjjjjjjjjjjjjjjjjjjjjjjjjjjjjjjjjjjjjjjjjjjjjjjjjjjjjjjjjjjjjjjjjjjjjjjjjjjjjjjjjjjjjjjjjjjjjjjjjjjjjjjjjjjjjjjjjjjjjjjjjjjjjjjjjjjjjjjjjjjjjjjjjjjjjjjjjjjjjjjjjjjjjjjjjjjjjjjjjjjjjjjjjjjjjjjjjjjjjjjjjjjjjjjjjjjjjjjjjjjjjjjjjjjjjjjjjjjjjjjjjjjjjjjjjjjjjjjjjjjjjjjjjjjjjjjjjjjjjjjjjjjjjjjjjjjjjjjjjjjjjjjjjjjjjjjjjjjjjjjjjjjjjjjjjjjjjjjjjjjjjjjjjjjjjjjjjjjjjjjjjjjjjjjjjjjjjjjjjjjjjjjjjjjjjjjjjjjjjjjjjjjjjjjjjjjjjjjjjjjjjjjjjjjjjjjjjjjjjjjjjjjjjjjjjjjjjjjjjjjjjjjjjjjjjjjjjjjjjjjjjjjjjjjjjjjjjjjjjjjjjjjjjjjjjjjjjjjjjjjjjjjjjjjjjjjjjjjjjjjjjjjjjjjjjjjjjjjjjjjjjjjjjjjjjjjjjjjjjjjjjjjjjjjjjjjjjjjjjjjjjjjjjjjjjjjjjjjjjjjjjjjjjjjjjjjjjjjjjjjjjjjjjjjjjjjjjjjjjjjjjjjjjjjjjjjjjjjjjjjjjjjjjjjjjjjjjjjjjjjjjjjjjjjjjjjjjjjjjjjjjjjjjjjjjjjjjjjjjjjjjjjjjjjjjjjjjjjjjjjjjjjjjjjjjjjjjjjjjjjjjjjjjjjjjjjjjjjjjjjjjjjjjjjjjjjjjjjjjjjjjjjjjjjjjjjjjjjjjjjjjjjjjjjjjjjjjjjjjjjjjjjjjjjjjjjjjjjjjjjjjjjjjjjjjjjjjjjjjjjjjjjjjjjjjjjjjjjjjjjjjjjjjjjjjjjjjjjjjjjjjjjjjjjjjjjjjjjjjjjjjjjjjjjjjjjjjjjjjjjjjjjjjjjjjjjjjjjjjjjjjjjjjjjjjjjjjjjjjjjjjjjjjjjjjjjjjjjjjjjjjjjjjzjjjjjjjjjjjjjjjjjjjjjjjjjjjjjjjjjjjjjjjjjjjjjjjjjjjjjjjjjjjjjjjjjjjjjjjjjjjjjjjjjjjjjjjjjjjjjjjjjjjjjjjjjjjjjjjjjjjjjjjjjjjjjjjjjjjjjjjjjjjjjjjjjjjjjjjjjjjjjjjjjjjjjjjjjjjjjjjjjjjjjjjjjjjjjjjjjjjjjjjjjjjjjjjjjjjjjjjjjjjjjjjjjjjjjjjjjjjjjjjjjjjjjjjjjjjjjjjjjjjjjjjjjjjjjjjjjjjjjjjjjjjjjjjjjjjjjjjjjjjjjjjjjjjjjjjjjjjjjjjjjjjjjjjjjjjjjjjjjjjjjjjjjjjjjjjjjjjjjjjjjjjjjjjjjjjjjjjjjjjjjjjjjjjjjjjjjjjjjjjjjjjjjjjjjjjjjjjjjjjjjjjjjjjjjjjjjjjjjjjjjjjjjjjjjjjjjjjjjjjjjjjjjjjjjjjjwjjjjjjjjjjjjjjjjjjjjjjjjjjjjjjjjjjjjjjjjjjjjjjjjjjjjjjjjjjjjjjjjjjjjjjjjjjjjjjjjjjjjjjjjjjjjgjjjjjjjjjjjjjjjjjjjjjjjjjjjjjgjjjjjjjjjjjjjjjjjjjjjjjjjjjjjjjjjjjjjjjjjjjjjjjjjjjjjjjjjjjjjjjjjjjjjjjjjjjjjjjjjjjjjjjjjjjjjgjjjjjjjjjjjjjjjjjjjjjjjjjjjjjjjjjjjjjjjjjjjjjjjjjjjjjjjjjjjjjjjjjjjjjjjjjjjjjjjjjjjjjjjjjjjjjjjjjjjjjjjjjjjjjjjjjjjjjjjjjjjjjjjjjjjjjjjjjjjjjjjjjjjjjjjjjjjjjjjjjjjjjjjjjjjjjjjjjjjjjjjjjjjjjjjjjjjjjjjjjjjjjjjjjjjjjjjjjjjjjjjjjjjjjjjjjjjjjjjjjjjjjjjjjjjjjjjjjjjjjjjjjjjjjjjjjjjjjjjjjjjjjjjjjjjjjjjjjjjjjjjjjjjjjjjjjjjjjjjjjjjjjjjjjjjjjjjjjjjjjjjjjjjjjjjjjjjjjjjjjjjjjjjjjjjjjjjjjjjjjjjjjjjjjjjjjjjjjjjjjjjjjjjjjjjjjjjjjjjjjjjjjjjjjjjjjjjjjjjjjjjjjjjjjjjjjjjjjjjjjjjjjjjjjjjjjjjjjjjjjjjjjjjjjjjjjjjjjjjjjjjjjjjjjjjjjjjjjjjjjjjjjjjjjjjjjjjjjjjjjjjjjjjjjjgjjjjjjjjjjjjjjjjjjjjjjjjjjjjjjjjjjjjjjjjjjjjjjjjjjjjjjjjjjjjjjjjjjjjjjjjjjjjjjjjjjjjjjjjjjjjjjjjjjjjjjjjjjjjjjjjjjjjjjjjjjjjjjjjjjjjjjjjjjjjjjjjjjjjjjjjjjjjjjjjjjjjjjjjjjjjjjjjjjjjjjjjjjjjjjjjjjjjjjjjjjjjjjjjjjjjjjjjjjjjjjjjjjjjjjjjjjjjjjjjjjjjjjjjjjjjjjjjjjjjjjjjjjjjjjjjjjjjjjjjjjjjjjjjjjjjjjjjjjjjjjjjjjjjjjjjjjjjjjjjjjjjjjjjjjjjjjjjjjjjjjjjjjjjjjjjjjjjjjjjjjjjjjjjjjjjjjjjjjjjjjjjjjjjjjjjjjjjjjjjjjjjjjjjjjjjjjjjjjjjjjjjjjjjjjjjjjjjjjjjjjjjjjjjjjjjjjjjjjjjjjjjjjjjjjjjjjjjjjjjjjjjjjjjjjjjjjjjjjjjjjjjjjjjjjjjjjjjjjjjjjjjjjjjjjjjjjjjjjjjjjjjjjjjjjjjjjjjjjjjjjjjjjjjjjjjjjjjjjjjjjjjjjjjjjjjjjjjjjjjjjjjjjjjjjjjjjjjjjjjjjjjjjjjjjjjjjjjjjjjjjjjjjjjjjjjjjjjjjjjjjjjjjjjjjjjjjjjjjjjjjjjjjjjjjjjjjjjjjjjjjjjjjjjjjjjjjjjjjjjjjjjjjjjjjjjjjjjjjjjjjjjjjjjjjjjjjjjjjjjjjjjjjjjjjjjjjjjjjjjjjjjjjjjjjjjjjjjjjjjjjjjjjjjjjjjjjjjjjjjjjjjjjjjjjjjjjjjjjjjjjjjjjjjjjjjjjjjjjjjjjjjjjjjjjjjjjjjjjjjjjjjjjjjjjjjjjjjjjjjjjjjjjjjjjjjjjjjjjjjjjjjjjjjjjjjjjjjjjjjjjjjjjjjjjjjjjjjjjjjjjjjjjjjjjjjjjjjjjjjjjjjjjjjjjjjjjjjjjjjjjjjjjjjjjjjjjjjjjjjjjjjjjjjjjjjjjjjjjjjjjjjjjjjjjjjjjjjjjjjjjjjjjjjjjjjjjjjjjjjjjjjjjjjjjjjjjjjjjjjjjjjjjjjjjjjjjjjjjjjjjjjjjjjjjjjjjjjjjjjjjjjjjjjjjjjjjjjjjjjjjjjjjjjjjjjjjjjjjjjjjjjjjjjjjjjjjjjjjjjjjjjjjjjjjjjjjjjjjjjjjjjjjjjjjjjjjjjjjjjjjjjjjjjjjjjjjjjjjjjjjjjjjjjjjjjjjjjjjjjjjjjjjjjjjjjjjjjjjjjjjjjjjjjjjjjjjjjjjjjjjjjjjjjjjjjjjjjjjjjjjjjjjjjjjjjjjjjjjjjjjjjjjjjjjjjjjjjjjjjjjjjjjjjjjjjjjjjjjjjjjjjjjjjjjjjjjjjjjjjjjjjjjjjjjjjjjjjjjjjjjjjjjjjjjjjjjjjjjjjjjjjjjjjjjjjjjjjjjjjjjjjjjjjjjjjjjjjjjjjjjjjjjjjjjjjjjjjjjjjjjjjjjjjjjjjjjjjjjjjjjjjjjjjjjjjjjjjjjjjjjjjjjjjjjjjjjjjjjjjjjjjjjjjjjjjjjjjjjjjjjjjjjjjjjjjjjjjjjjjjjjjjjjjjjjjjjjjjjjjjjjjjjjjjjjjjjjjjjjjjjjjjjjjjjjjjjjjjjjjjjjjjjjjjjjjjjjjjjjjjjjjjjjjjjjjjjjjjjjjjjjjjjjjjjjjjjjjjjjjjjjjjjjjjjjjjjjjjjjjjjjjjjjjjjjjjjjjjjjjjjjjjjjjjjjjjjjjjjjjjjjjjjjjjjjjjjjjjjjjjjjjjjjjjjjjjjjjjjjjjjjjjjjjjjjjjjjjjjjjjjjjjjjjj jjjjjjjjjjjjjjjjjjjjjjjjjjjjjjjjjjjjjjjjjjjjjjjjjjjjjjjjjjjjjjjjjjjjjjjjjjjjjjjjjjjjjjjjjjjjjjjjjjjjjjjjjjjjjjjjjjjjjjjjjjjj'jjjjjjjjjjjjjjjjjjjjjjjjjjjjjjjjjjjjjjjjjjjjjjjjjjjjjjjjjjjjjjjjjjjjjjjjjjjjjjjjjjjjjjjjjjjjjjjjjjjjjjjjjjjjjjj jjjjjjjjjjjjjjjjjjjjjjjjjjjjjjjjjjjjjjjjjjjjjjjjjjjjjjjjjjjjjjjjjjjjjjjjjjjjjjjjjjjjjjjjjjjjjjjjjjjjjjjjjjjjjjjjjjjjjjjjjjjjjjjjjjjjjjjjjjjjjjjjjjjjjjjjjjjjjjjjjjjjjjjjjjjjjjjjjjjjjjjjjjjjjjjjjjjjjjjjjjjjjjjjjjjjjjjjjjjjjjjjjjjjjjjjjjjjjjjjjjjjjjjjjjjjjjjjjjjjjjjjjjjjjjjjjjjjjjjjjjjjjjjjjjjjj'jjjjjjjjjjjjjjjjjjjjjjjjjjjjjjjjjjjjjjjjjjjjjjjjjjjjjjjjjjjjjjjjjjjjjjjjjjjjjjjjjjjjjjjjjjjjjjjjjjjjjjjjjjjjjjjjjjjjjjjjjjjjjjjjjjjjjjjjjjjjjjjjjjjjjjjjjjjjjjjjjjjjjjjjjjjjjjjjjjjjjjjjjjjjjjjjjjjjjjjjjjjjjjjjjjjjjjjjjjjjjjjjjjjjjjjjjjjjjjjjjjjjjjjjjjjjjjjjjjjjjjjjjjjjjjjjjjjjjjjjjjjjjjjjjjjjjjjjjjjjjjjjjjjjjjjjjjjjjjjjjjjjjjjjjjjjjjjjjjjjjjjjjjjjjjjjjjjjjjjjjjjjjjjjjjjjjjj-jjjjjjjjjjjjjjjjjjjjjjjjjjjjjjjjjjjjjjjjjjjjjjjjjjjjjjjjjjjjjjjjjjjjjjjjjjjjjjjjjjjjjjjjjjjjjjjjjjjjjjjjjjjjjjjjjjjjjjjjjjjjjjjjjjjjjjjjjjjjjjjjjjjjjjjjjjjjjjjjjjjjjjjjjjjjjjjjjjjjjjjjjjjjjjjjjjjjjjjjjjjjjjjjjjjjjjjjjjjjjjjjjjjjjjjjjjjjjjjjjjjjjjjjjjjjjjjjjjjjjjjjjjjjjjjjjjjjjjjjjjjjjjjjjjjjjjjjjjjjjjjjjjjjjjjjjjjjjjjjjjjjjjjjjjjjjjjjjjjjjjjjjjjjjjjjjjjjjjjjjjjjjjjjjjjjjjjjjjjjjjjjjjjjjjjjjjjjjjjjjjjjjjjjjjjjjjjjjjjjjjjjjjjjjjjjjjjjjjjjjjjjjjjjjjjjjjjjjjjjjjjjjjjjjjjjjjjjjjjjjjjjjjjjjjjjjjjjjjjjjjjjjjjjjjjjjjjjjjjjjjjjjjjjjjjjjjjjjjjjjjjjjjjjjjjjjjjjjjjjjjjjjjjjjjjjjjjjjjjjjjjjjjjjjjjjjjjjjjjjjjjjjjjjjjjjjjjjjjjjjjjjjjjjjjjjjjjjjjjjjjjjjjjjjjjjjjjjjjjjjjjjjjjjjjjjjjjjjjjjjjjjjjjjjjjjjjjjjjjjjjjjjjjjjjjjjjjjjjjjjjjjjjjjjjjjjjjjjjjjjjjjjjjjjjjjjjjjjjjjjjjjjjjjjjjjjjjjjjjjjjjjjjjjjjjjjjjjjjjjjjjjjjjjjjjjjjjjjjjjjjjjjjjjjjjjjjjjjjjjjjjjjjjjjjjjjjjjjjjjjjjjjjjjjjjjjjjjjjjjjjjjjjjjjjjjjjjjjjjjjjjjjjjjjjjjjjjjjjjjjjjjjjjjjjjjjjjjjjjjjjjjjjjjjjjjjjjjjjjjjjjjjjjjjjjjjjjjjjjjjjjjjjjjjjjjjjjjjjjjjjjjjjjjjjjjjjjjjjjjjjjjjj-jjjjjjjjjjjjjjjjjjjjjjjjjjjjjjjjjjjjjjjjjjjjjjjjjjjjjjjjjjjjjjjjjjjjjjjjjjjjjjjjjjjjjjjjjjjjjjjjjjjjjjjjjjjjjjjjjjjjjjjjjjjjjjjjjjjjjjjjjjjjjjjjjjjjjjjjjjjjjjjjjjjjjjjjjjjjjjjjjjjjjjjjjjjjjjjjjjjjjjjjjjjjjjjjjjjjjjjjjjjjjjjjjjjjjjjjjjjjjjjjjjjjjjjjjjjjjjjjjjjjjjjjjjjjjjjjjjjjjjjjjjjjjjjjjjjjjjjjjjjjjjjjjjjjjjjjjjjjjjjjjjjjjjjjjjjjjjjjjjjjjjjjjjjjjjjjjjjjjjjjjjjjjjjjjjjjjjjjjjjjjjjjjjjjjjjjjjjjjjjjjjjjjjjjjjjjjjjjjjjjjjjjjjjjjjjjjjjjjjjjjjjjjjjjjjjjjjjjjjjjjjjjjjjjjjjjjjjjjjjjjjjjjjjjjjjjjjjjjjjjjjjjjjjjjjjjjjjjjjjjjjjjjjjjjjjjjjjjjjjjjjjjjjjjjjjjjjjjjjjjjjjjjjjjjjjjjjjjjjjjjjjjjjjjjjjjjjjjjjjjjjjjjjjjjjjjjjjjjjjjjjjjjjjjjjjjjjjjjjjjjjjjjjjjjjjjjjjjjjjjjjjjjjjjjjjjjjjjjjjjjjjjjjjjjjjjjjj\n",
            "-------0.4------\n",
            " them no more by crossing their high wiljjjjjjjjjjrjjjjjjjjjjjjjjljjjjjjjjjjjj jjjjjjjjjjjjjjjjbj'jjjjj jjjjjjgjjjjjj jjjjjjjjjjj\n",
            "jjjjjjjw jjjjjjjjjjjjjjjj jjjjjjjjjjjjj jjjj jjjjjjhhjhjjj&jsljjjrjjtjjjjjjjjjjjjjjjjjjjjjjjjjjjjjjjjjjjjjj jjjjjljjjjjjjjjjjjjjjjjjjjjjjjjjnjjjjjjjjjjjjjjjjjjjjjjjjjjjjg hjjjjjjjjjjjjjj'jjjjjjjjtjjji  jj jjhjjjjjjmjjjjjjjjjjjjjjjjjjj3jjjjjjrjjjjajjjjjjjjjjjjjjjjjjjjjjjjjjjjjjjjjg jjjjjjjjjjjjjjjjjjjjjjjjjjjjj:jjjjujjjjvjjljjjjj jjjjjjjjjjjjjjja ujjjjjjjjjjjjjjcjjjjjjjjjjjjjjjjjj'jjjjjmjjjo jjjjgjjjjjwjjjjjjjjjjjjjjjjjjjjjjjjjjjjjjjjrjj jjrjj jjjjj:jjjjjjgjjjjjjjjjjjhjjjjjjjj jjjjjjgjjjjjjjjjjjjjjjjjjjjjjjjjwjjjjjjjjjjjjjjj jjjjwjjjjjjjjjjjjjjjjjj'jjjjgjjgjjojjjjjjjjjjjjjjjjjjgjjjjjjjjjjjjjjjjjjjmajjjgljjjjjjjjjjjgjjjjjj-jjjjjjjjjjjjjjjjjjjjjjjjwjjjjjjjjj\n",
            "jjjjjjjjjjjjjjajjaj-jjjjjjjjjjjjjjjjj jjjjjjjjjjjjcjjrjjjjjjjjjjjjjjjjjjjjjjjjjjjjjjjjjjjjjajjjjjjjjjjjjjoj'jjjjjjjjjjjhjjjjjjjjaj'bjjjjjjjjjjjjjjjjjjjjjjjurj-jjjgjjjjjjjjj jjjfjjjjjjjw'jg'jjjjjjjjjjjjjgjjwjjjjjjjjjjjggjjjy-jjjjjjjjjjjjjjjj-jjijjjjjjjjyjjjjjjjjjjj,jjjjjjjjjjjjj jjjjjjcjjgjjjjj'jjjyjjj-jjjjjjjjjjjyjjjjjjrjjj-j jjjjjjjjjjjgjjj-jjjjjjjjljjjjjjjjjjjjjjjjjjjjjjjjjjjjjjj,jjjjwjjjajjjjjjjjjjjjjjjzjjjjjjjjjjjjj jp-jjjjjjjjjjjjjjjjjajjjjjjjjjjjjjhjwijjjjjjjjajj'jajjjjjjjjjjjjjjjjj&jrjjjjjjjjjjjjjjjjjjjjjjjjjjjjjjjjj'jjjjjjjjjjjjjijjjjjj jjjjjjjjjjjjjjwjjjjjjjjjjjjjjjijjjjjjjjjjjjjjjjjjjjjjjj'jjj' jjjjjjjwjjjjjjjjjjijjj'jhjjjjjj'jjjjj&jjjjjjzjjjjjjjjhjjjjjjjjjjgjjjjjjjjjjnjjjjjjjwjhjjjojjjjjjjjjjjjjjjjjjjjjjjjjgjjjjjjpjjjjjjajjjjjjjjj jjjjjjjjjjpjjjjhjjjjjwjjjhjjjj ,jjwjjj jj'jajjjjjjjhjjjjjjjjjjjjjjjjajjjxjjjjjjjjjjjwjjjjjj jjjjjjjjjjjjjjjjjjjjjjjejjjjjjjjjjrcjjjjjjijjjjjjjj jjjjjjjjjjjjj-j jjjjjjjjjjjjjjjjjajjjjjjjjjj jjjjrjjjjjj'jjjl&jjjjjjjjjoljjjjjnjojjjjj jh'jjjjjjjjjjjjjjjjjijjjjjjjjjjjjjjjj.jjjjjjjj j jjjwjjjjjjjjjjjjjjjjjjjjjjhjjjjjjjjjjjjjjjjjjjjjjjjjjggjjjjjjjjjjjjjjjjjjjuj jjjjjjjjjjjjjcjjj jjjjjjj j jjjjjjjjjjjjjjjjjjjjjjjjj&jjjjjajjjjijjjjjjjjgjjjjjjjjjjjjj&wjjjjjjjjjjjjjjjcj&jjjjjjjjjjjjjjjjjjjjjjjjjjjpjjjjjjajjjjjhjjvjjjjjjjjjjjjjjjgjjjjjjjjjjjjjjjjjjjjjjjjjjjjjjjjj'jjjjjjjjjjjjjjjjjjjjjjjjjjo rjjjjjjjjjj jjja jajjjjjjjjjjjjjjjjjjjjjjjjjj-jxj jcjjt-jjjjjjjrjjjjjjjj jjjjjjjjjjjcjjjjwjjrjjjjjjjm jjjjojjjjjjjjjjjjjjjjjjjjjjjjjjjjjjjjjjjjjjjajjjjjj-jjijjjkjjjjjjjjjayjjjjjekjjjjj ijjjjjjjjjjjjjjjjjjjj jjjjjjjjjjjjjjjjjjjgjjjjjjjjjjjjjjjjjjjjjjjj-j jjjjjjjjjjjjjwwojjjjjjjj  -jjjjjjjj 'jjjjajjjjjjjjjjjjjjjjjjjjrjpjjjyjjjjjj jjjj jjjjjjijjjjjjjjjjjj-jjjjjgjjjjjjj.jjjjjjjjjjjjjjjjjj jjjjjjjjjjjjjjjjjj\n",
            "jjjjjjjpjjjj'jjjjjjjjjjjjjjjjjjjjjjjjjjjjjjjjj jj ' j jjjjjjjjjjjjjjjjjjjjjjjjjjjjjjjjjjjjjjjjjjjjjjjjjjjjjjjjj jjjjj jjjjjjjujjjjjj jjjjjjjjjj'jjjjjjjjjjjjjjjjjjhjjjjjjjjjjjjjjjjjjj3jjjjjjjobjjjh jjjjjjjjjjjjjjjjjj jjjjjjjjjjjjjjjjjjjj jj jhjjjj jjjjjjjj jjjyjjjjjojjjjjjjjjjjjjjjjjjjjjjjjjjjjjgjjjjjjjjjjjjjajjjjjjjjjjjjjrjjjjjjjjjjjjjjjjjjjjjjjgjjjjjjjjjjjjjj.jjjjjjjjjjjjjpjjjjjjjjjjjrjjj\n",
            "jjjjjjjj jjjjjjjj-jjjjjnjjjjjj&jjjrjjljjjjjjjj jjjjjjjjjjjjjjjhjtj jjjjjj rjjjbjjjjjjjjjjjjjjjj j.j jjjjjjijjhjjj-jjjj j$jjtjj,jjjjjjjjjjjujjjjjjjjjjjjjjzjjjjjjjjjjjjjjgjjjjjjjjjjjjjjjj-j'jjjjjjjjjjjjjjjjjjjjjj jjjjjjjjjjjjjjrjjjjjjjjjjjjjjjjjwjjjjjjjjjjjajjjjjjjjjjjjjjjjjjjjjajj.jjjjjjjjjjjjjjjjjjjjjjjjjjjjjjj jjjrjjjjjjjjjjjjjjjjj&jjjjjjjgjjjjhjjj jojjjjjjj-jjjjjjjhjjjjjajjjjjjjj\n",
            "jjjjjjjrjjjjjjjjjj!jjjjj-jjjjjjjjjjjjjjjjjjjjjjjjjjjjjjjjjjjjjjjjjujajjjjj3jjjjjjjjjjjjjjjjjjj jhjjjjjjjjjjjpjjjjj jjj jjjjjjjjjijj hjjjjjjjjjjjjjjjjjjjjjgjjjjjjjjjjcjj'jjjjjjjjjjjjjjjjjjjjjjjjjjj3jjjjjjjjjjgjjjjjjjjjjjjjjjjjjjjjjjjjjjjjjjjjjjgjjjjjjjjajjjjjjcjjjjjjjjjj jjjjjjjj jjjjjjjj jjjwjjjjjjjjjj jjjjjjjjjjjjjjjj jjjjjjjjjjjjlh jjjjjjjjvjjjjjjjjjjjjjjjjjjj-jjjjjjjjjjjjjjjjjjjjjjjjwjjjjjjjjjjjjjoj-jjjjjjhjjjjjj jjjjjj'jjjjjjrjjjjjjjjjjj'j jgjjjjjjjjjjjijjjjjjjjjjjj-jjjjjjjjjjajjjjjjjjjjjjjjjjjjjjjjjjjjjjjjjjjzjjjjjrjjjjjjj-jjjj--jcjjjjjjjj'jjajjjjjjjjjjjjjjjjjjjjjjjjj-njjajj'jjjajjjjjjgjrjjjjjwjhjjjjjjjjjjjjjjjj-jjajjj jjjjgjjjkjjjjwjjjjjjjjgjjjjjjjjjjwjjjjjjjjajjj j&jjjjjjjjjjjjjjhjjjjjjjjjjjjjjj'jjjj'gjjjjjjjgjjjjjjjjjjzbjjjjjjjjj,jjjojjj,jnjjvjjjjjjjjjjjjjjjjjjjjjjjjjjjjjjjgjjjjjjhjjjjjjjjjjjjjjpjjhjjjjjjjjjjjjjjjjjjijbjjjjjjbojjjjjjjjjjjjajjjj j3jjjjjjjjjjjjjjjjjj jjjtjjjjajjjjjjjjjajjjjjjjajjj jjjwcjjjj3jjgwjjjg jjjjjjjjjj-jjjjjjjhjcjjjjjjjjjhjjjjjjjjjjjhjjjjjj jjjjjjjjjjjjjj:jjjjjjjjjjjjjjjjjjjjjjjjjajjjjjjajjjjjjjjjkjjjjjjjjjjjjjjtjjjjjjjjjjjj'jjjjjjjjjjjjjjjjgjjjjjojjjjjjj-'j,jjjjjjjjjjjjjjjjjjjjjjjjjjjjjjjjjjjjjjjjjrjjjjj jjjjzjjjjjjjjjjjjjjjjjjjjj jjjjjjjjjjjjhjjj-rgjjjjjjjjjjjjjjjjjjjj jjjjgjjjjcjjjjjjfjjjjjjjjajjjjjjjjjjjjjjj ajjjjjjjjj jjjjjjjjjjjjjjjjjjjj jjjjjjjjjjjjjjjjjj  jjjjjjjjjljjjjjjjjjjjjwjjjjjjajjajrjjjjjjjjj'jjjjjjjjjr-jjjjjjj jcjj-jjjjjjgjjjjj jjcjjjjjjjjjzjjpjjjjjjjjyjjjjjjjjjrjjajjjjjjjjjjjjj jjjjjjjjjjjjjjyjj jjjj jjjjjjj-wjj&jjjjwjjjwjjjjjjjjjjqjjjjjjjjj&j&jjjjjjjjjjjjjgjjjjjjtjjjajjjjjjj hjjijjjjjj-jjjjjjjjjjojjjjjjjajjjpjjjjjj&jjqjjjjjjjjjjjj jj'jjejjj-jjjjjajjjjjjjjjjjjjjjjjjjjjjjjjjjjjjjjjrjjujjjjjjjjjjcjjj-j'jjjijbjjjjjjjwjjjjjoj jjjj:j&jjjjjjjjjjjjjzjjjjjjjjjjjjjgjpjjjjcjj-jjjjjjjjjjjjjjjjjjjjjjj jjjjjjjjjjjjjgjjjjj,jjjjjjjjjjjjjjjjjjjjjjjjjjjjjjjjjjjjj-jgjjjjjqjjwjjjjjjhjjj jjjjjjjj jjjjjjjjjgjjjjjjjjjjjjjw3jjjjjjjjjjjjjjjjjjjjjjjjjjj:jjjjjj-jjljjjjjjjjjjjjojjhjjjjjjaj'jjgj :jjj-jjjjjjjjjjwjjjjjj!jajjjjjjjjjj jjjjjjjjjjjjjjyjjjjjjjjcjjjrjjjjjjjjjjjj jjjjjjwhjjjjljjjsjjjjjjjjjjjijjjnwjjjjjjjjjjjjjj'jjjjjjjjjjjjjjjjj--jjjjjjjjjgjwjjj-jjjjjjjjjjjjjjjjjjjjjj'jjjjjjgjjjjjhjjjjjjjjj\n",
            "jjjjjjj jijjjgjjjjjjjjjjjjjjjjjjjjjjjjjjjjjjjjjj jjjjjjjjjjjjjjjjjjjjjjjjjjgjjj-jjj jmjjjhjjjjjjjjjjjjj-rjjjjjjjjjjjjjjjjryjjjjjjjijjjjjjjjjjjjjjjjjjjjjjjjjjjjjjjjjjjjmjjjjhjjjjjjjjjjjjjjjjjj3rjjjjjjwj!jjrjjjjjjjjjjzjjjjjjjjjjjrjwjjrjjjjjjjjjjjjjjjjjjjjjjjj jjjjjjj'jjjjjjjjjw jjjjjjjjjjjjfjjjjjjjjjjjjjjjjjj,jjj jjjjjagjjjhjjjjjjjjjjjjjjjhjjjjjjjjj gjthjjjjjjjjjjjjjjwjjjgjjjajjjjjj jjjjjjjjj&jwjjjjjjjjjjjjjjjjjjjjjjjjjjjjj jjjjjjjjcjjjjjjjijjjjjjgjjjjhmjjjjjjjjjj jjwjjjjjjjj jjjmjjjjjjjjjjjjjjjjjjjjjjjjjtjjwjjjjjjjjjjjjjjjjjjjjjjnjjjjjjj jj-jjgjjjjjjjjjjjjjjjjfjjj?jjj-jjjjjjjjjojjjjjjjjjjjjj-jjjjjjj-jjjjjjjjjjjjjjjjjjjj jjjjjjjjjjjijjjjijjjjjcj  jj qjgjhjjjjjj yjojjjj-jjjjijwgjjjjjjjwjjjjjjjjjjjjjjjjjjjjjjhjjjjjjjjjajjjjjjjjjjjjjjgjhjjjjjjjjjjjjjjjjjjjjjj jjjjjjjjjjjj jj jjjfjcjjjjjjjjjjjojxajjjjjjjjjajjjj- jjjjjjjjjjj jjjjgajjjjjjjjjjjjjjjtjjjjjjjjjjjajjjjjjjjjjjjjj jjwjjjjjjjjjjjjjjj'jjjjjjjjjj-jjjjjjjajjjjjgjjjjjjj hjjj jpjjjjjjjnjjjjjjjjjjjjjjjjjjjjjjjjjjjjjjjjjjhjjjjjjjjjjjjjjjjjjjjjjjjjjgjjjjjjjjjjjjj jjjjjjjjjjjjjjjwj jjw jjajjjjjjjjjfjjjjjjjjgjjjjjijjjjjjjjhjjjjrjjjjjjjjjjjjjjjj-jjfjjj jjjjjjjjjjjjjjjjjajjpjjjj,jjjjjjjjjjjjjjjjjjjjjjjjjjjjwjjhjjjjjjj'jjjjjjjjjjvjjjjj jjjjjjjjjjjjjjjjjjjjjjjjjjjj'-jgyjj'mjjgjjjjjjjjjjwjjjjjjjjjjijjjjjagjjjjjjjjjjjjjjjjjj&jjjjjjjjjjajjjjjjjjjjjjjgjjzjjjjj'jjjjjjjjj-jjjjjjjjjjejjjjjjjjjjjjjjjzjjjjjjjjjajjjjjzjcjc jjjjjjjjjjjjjjgjjjjjjjjajnjjjjgjjjjjjjjjjjjjjjgjjjjjjjcjgjjjjjjjjjjjjjjjjjjjjjjjjjjjjjjjjjjjjijjjjj jjjjjajjjjjj-jjjjjjjjjjjjjjjgjy3jjjjjjjjjjjjjjjjjjjjjjjjjjjjjjjjjrjj jjjjjjajjjjjjj'j jjjjjjjjjjjjcgjjjrjjjjjjrjjjjjjjjjjgjjjjjjjjjjj?jjjjcjjjjjjjjjjjwjj wjjjljjj-jjjjjjjjjsjjjjjjhj3jjjjjjjjjjjjjj3jjjjjjjjjjjjj jjjjjgjjj gjjjjjjjjj jjjqjjjjjjw jjjjjjjjjajjjjjjjjjjjjjj-jjjjjjjjjjjjjjjgjjjjjjjjjjjjjjjjxjjjjjjjjjjjjjjj jjjjjjjjjjjjjjjjjjjrjj jjjjjjjjjjjjjjjjjjjjjjj jjjjjj,jjjjjjjjjj jjjjoj ijjjjjjjjjjj'pjjjjjjjjjjjjjj-jjjjjjjjjj-jjjjjjjjjjjjjwjjjjjjjjjhjjjjjjjjjjj jjjjjjjjjj3jjjjjjjjjjjjjjjjj jjjjjjjjjjjjjjjjjjjjj hcjjjjj'jjjjjjjjmhjjjj jjjjhzjjjjjjjjjjjjjjjjgjjjjjjjjjjjjjjjjjjhjjjjjjjjjjjjjjjjjjjjjjjjjhjjjjjjjsjjj 3jjjjjjjjjjjjjj,jjjjjlj-jjajj fjjjjjjjjijjjjjjjjjjjjjrjjjjjjjj jjj qjjjjjjjjjjjjjjjjjjjjjjfjjjjjjjjjjjj jjjjjjjjjjjjjjjjj-jjjbjjbjwjjjjjjjjjjjjjjjjjjjjjjjjwjjjjjjjjjjjajjjjjjjjjjjjjjjjjj jjjjjojjgjjjjjjja jvjjjjjjjwjpjjjjjjjjjijijjjjj jjjj!jjjjjjj jjjjjjjjjjjjjyjj ajjjjjjjjjjjjjjjjjjoj jjajjjjjhjjjjjbjjjjjjjqjjjjjjjj$jjjjjajjj?jrjjjjjjjjjejjjhjjjjjjjjjjjjjjjjjjjjjjjjjjjjjjjjjjhjjjjjjjjjjjjjjjjjj-jjjjjjojjjjjjjjjjjjjjaj-arjjjjjjjjjjjjgjjjjjjjjjj'j-jjjjjjjjjjjjjjjojjogjjjjjjjjjjjjj-jjjjjjj-jj jjjjjjjjjjjjjjjjjjjjrjjjjjjjjjjajjjjjjjjjjjjjjjhjjjjjjgjjjjjjjj jjjjjjjjjj-jwjjjjjjjjj -jjcjjjjjjjj3jj jjjj-jjjjcjjjjjjjjjjjjjjjjjjjjjjjjhjjjjjjjjjjjjjjjjjjjj'jjjjjjjjjjjjjjjjjjjjj3jjjjjjjgjjjjjjjojxjjjrjjjjj-jjjhjjjjjjjjjjjjjj jjjjjj jjjjjjjjjjjjjjhjjjjjjjjjjjjjjjjgjjjjjjjjjjjhjjjjjjjj-jjjjtjjjjjjjjojj jjtjjhjjj jjjjjj\n",
            "j rjjjjjjjj jjjcjjjjjjjvcjjjjjjjjjjjjjjjjjjjjjjgjjjjjjjjjjjjj aj-jij jjjjjjj-?jjjjjjjjjjjjjjjjjhjjjjjrjjjjjjjjjjjjjjjjjjjjjjjjjjjjjjjjojjzjjjjjjjjj jjjjjjjbjjjjjjjvjjjjjjj\n",
            "jjjjwjjjjjjjjjjjjjjjjjjjjjjjjjjjjjjjjj jjjjjajjjjjjjjjj!'jjjjjj jjjjjjlhyjjjjjjjjjj-jj bjjjjijjjjjjjjjjjjjjjjjjjjjjjjjjjj'3'gwjjjjjjjjgjjjjjjjjjtjjjjj-jj-jgjjjjjjjjjhjjj&jjjjjjjjjjj jjjjjjjjjjjjjjjjjujjajjjrjjjjjjjjjjjjjjjjjjj jjjjjjjjjpjjjjfjjjjjjjjjjjjjjjjjjjjjjjjjjjcj  jjojjjjrjjjjjjjkcjjjjjj jrjjjjjjjjjjjjjjjjjjjjjjjjjjjjj jjjjjjjjajjjjjjjjjjjjjajjjjjjjjjjjjojjjjgjjjjjjjjjjjjjjjj'jjjjjjjijjajjjjjjjjjjjjgjjjjjjjjjjjjjjjjjjjjjjjjjjjjjjjjjjjjjjjjjjjjjjjjjjjjjjjjjzjjjjajjj-j-jojjjjjejjjjjjjjjujjjjjj jjjjjcjjjjjjjjjjjjjjjjmjjjjjjjjsjjj jjjjjjjjjjjjjjjjjjjbjjjsjjpjjjjjajjjjjjjjjjjjjjjjjj-jjjjjjjjjjjjjjjjjj-jjjj ijjjcjjjjjjjj-jjjjjjnjjjjgjjjjjgjjjjjjjjjjjjjjjjjjjjjvjjjjjjjjjjjjjjjjjjjjjjjujjjjjjzgjjjjjjjjjjjjjjjjjjjjjjjjjj-jjjjjjjjjjjjjjjjjjjjjjjjjjjjjjjjjjwjjjjj jjjjjjjjjjjhjjjjycjjjjjjj jj:jjjrjj'jjgjwjjjjjjjjjjjjjjjjjjj ljjjjjjgjjjajjjjjjjjj jjjjjjjjjjjjjjjjjjjjjjjjjjzjjjjjmjjjjj jwjcjhjnjjjjj jjjjjjjjjjjj jjjjjjjjjjwjwjjjjjujjjj.jjjfjjgjjwnjjjj cjjjc-jjjjjj3.jjjjj.jjjjjjjvnjhtjjjjjjjjjj jjjjj jjjjjjjjjjjjjgjjjjjjjjjj.jjjjjjjijjojjjjjjjjjjjjjwjjjjijjjjjj!jjjjjjjjjjjqjjjjjjjj jjjjjjjj-jcjjjjjjjjjjjnjjjjjjjjjjjjjjjjj jjj-jjjjjjjjjjjjj jjjjjpjjjjjjjjjjjwj'j-jjjjjjjjwjjjjjjjjjjjjjjjjjjjjjjjjxjjjjjjjjjjjjjjj-jjpjjjjjjjjjhjjjjjjjjjjjajhjjjajjjjjjjjjjcjwjjjjjjjjjjjjjjhjjjjjjj-jj:jjjjjjjjjjjjjjbjgjjjjjjj jjjjjjj\n",
            "jjjjjjjjjjjjjjj'-jjjjjjjnjj'zjujjj ajgjjjjjj'jjjjjjjjjjjjjjjjjjjjjjcjjjjjjj'jj jjjjrjjjajjjjjjjjjjjjhjjjjjjt jjjcjjjjjjuj'jjjjjjjjjjjjjjjjjjjjjjjjjjjjjjjfjjjjujjjjjjjj-jjjgjjjjjjjjjjjjhjjjjjjjljjjjjjjjjjjjjjjjjwj jjjjjjjjjjjjjjjjjajjjjggjjjjjjhjjjjj'jjjjjjjjjjjjjjjjjjjjjjjjjjjjjjjjjjwjjjjjjjjjjjjjjj njjjjjjjjj j-ajjjc'jjjjjjigjj'jjjjjjjjj-jjjjjnjjjjjjjjjjjjjjjjjxjjjjjjjajjjjj gjjjjjjjjjjjj.jjjjjjj jjjjjjrjjjjjjjjjjsjajjajjjjjjjj-jjjjljjjjjjjjgjjfjjjjwjjajjjjjjjjjjjjljja jjjhjjjjjjjjjjgjjjjjjjjjjjjljjjjjjjjjjjjjjjj.jjljjjjjjjjjjjjjjjjjjjjjajjjhjjjjjjj-jjjcjjjjajjjjijgjjjjjjjjjjjjjjjjjjj'jjjjjj-jjjjjj jjjjc-gjjjjjjjjjjejrjjjjejjjjjjjjjjjjjjjjjjjjjjjjjyjjjjjjh-jjjjjjjjjjjjjjjjcjjjojjjjjjjjjjjajjjjjhjhjjjjjjjjjjjjjjjjjjjjjjjjjjm jjjjjjjkjjjjpjjjjjjjjhjjjjjjjjjjjjjjj jjjjjjjj'jj-j-jjjjjjjjjjjjyjj jjjgjjjjjjjjjjjjjjjjjjjjjjjjjjjjjjjj jjjjjjhjjjjjjjjjjjjjjjjjjjwjjjwjjjjjjjjjg jjjjjzjjhjjjjjjjjjjjjj jjjjjjjjj jjjjjjjjjjjjjjjjjj jpjjjjijjjjjajjwjjjjjjgjrjjjjahjjjjmj jjjjjjjjjjyjjjjjjjy'jjjhjjjjjjjjjgjjjjjjjjjjjrjjjjjjjjjjjjhj'jjjjj jjjjjjjjjjjjjjjjjmjjjjcjjjjjjjjjjjqjjjjjjjjjcjjejjjjjjjjajj-jjjjjjij-jjjjjjjjjjjjjjjjj!cjjjjjjjjjjjjcjgjjjjjjjjjjjjjjjjjjjjjrjjjjjjjajjjjjjjjjjjjjjjjjjjjjjjjjjjjjjjjjjjjjjjjjjjjjzjjjjjj jjjjjjjjjjjjjj'jjjjjwjjjjjjkjjjjjjjjjjjjjjjjjj j jjjjjjjjjjj,jjjjjjjjjjjjjjjjjjjjojjjjjjjjjjjjjcjjjjjjjjz\n",
            "jjhjjjjjajj jjgjjjjjjjjjjjjjjjjjhjjjj-jjjjjjjjjjjjjjjjcjjljjjjjjjjjjjjjjjjjjjjjj-jjjjjjjjjjjjjjjjjgjjjjjjj jjjjjjgjjjjjjjjjjjjjj jjjjjjhjjkjjjjjghjjjjjjj,jjjjjjjjjwjjjjjj jjjjjjjjjjjjhjjjj jjjjjjjjjjjjjjjjjjjjjjjjjjjjjjjjjjjjjjjjjjjjjjjjjjjjjjjwjjgjjjjjjgjjjj jjjj-jjjjjjjhjjjjjjjjjjjjjjjjjjjjjjjjjjj jjjjjjjjjjjj3jjj-jjjjjjj jjjzjjhjjjjjjwjjwjjjjjjjjjjjjjj jj jjjjjj-jjjjjjjjjjjjjlh'jjjjjjjjjjnjjjjjjjjjjjp?jjjjjjjjjjjjcjjjjjjjjjjjjjjjjjjjjjjjjjjjjjgjjjjjjjjjjjjjjjjjjjjjjjjjjajjjjjjjjjjjjrxjjjjjjjjjjjjjjjjjjjjjjsjjjjjjjjjjjj3jjrjjjjjjjjjjjjjj jjjjjjjjjjjjjjjjhjjjjjjj jjjhjjjjajjjjjjjjjjjjjjjjjjjjjjjjjjjjj jjjjjjjjjjjjjjjjjwj jaj jjjjjjjjwjhjjjjfjjjjjqjj-jjjjjjjhjj3zjjjzjjrjjjjjcjjjijj jjjjjjjjjjjjhjjjjj'jjjj jjjjjjjjjjjjjjjjjjjjgjjjjjjjjjjj j jjjjjjjjbjjjjjvjjjjjjjjjjjjjjjjjjjjjjjjjjjjjjjjjjjjjjjjjjj jjjjjjjjjjcjjjjjjj\n",
            "-------0.6------\n"
          ]
        }
      ],
      "source": [
        "print(\"-------0.2------\")\n",
        "print(generate_text(300, 0.2))\n",
        "print(\"-------0.4------\")\n",
        "print(generate_text(300, 0.4))\n",
        "print(\"-------0.6------\")\n",
        "print(generate_text(300, 0.6))\n",
        "print(\"-------0.8------\")\n",
        "print(generate_text(300, 0.8))\n",
        "print(\"-------1.0------\")\n",
        "print(generate_text(300, 1.0))"
      ]
    },
    {
      "cell_type": "code",
      "execution_count": null,
      "metadata": {
        "id": "ewcKGvjMg7F-"
      },
      "outputs": [],
      "source": []
    },
    {
      "cell_type": "code",
      "execution_count": null,
      "metadata": {
        "id": "yGmjZktdg7JD"
      },
      "outputs": [],
      "source": []
    }
  ],
  "metadata": {
    "colab": {
      "provenance": [],
      "authorship_tag": "ABX9TyNsXdEMh+mD9lR0nLsmr8wi",
      "include_colab_link": true
    },
    "kernelspec": {
      "display_name": "Python 3",
      "name": "python3"
    },
    "language_info": {
      "name": "python"
    }
  },
  "nbformat": 4,
  "nbformat_minor": 0
}